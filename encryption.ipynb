{
 "cells": [
  {
   "cell_type": "code",
   "execution_count": 1,
   "outputs": [],
   "source": [
    "import pyautogui as py\n",
    "import tkinter as tk\n",
    "import tkinter.scrolledtext as sc\n",
    "import base64 as b\n",
    "import tkinter.filedialog as tf\n",
    "import os"
   ],
   "metadata": {
    "collapsed": false
   }
  },
  {
   "cell_type": "code",
   "execution_count": 2,
   "outputs": [
    {
     "data": {
      "text/plain": "''"
     },
     "execution_count": 2,
     "metadata": {},
     "output_type": "execute_result"
    }
   ],
   "source": [
    "crnt_dir = os.getcwd()\n",
    "rootu = tk.Tk()\n",
    "rootu.title(\"Main file\")\n",
    "rootu.geometry('640x480')\n"
   ],
   "metadata": {
    "collapsed": false
   }
  },
  {
   "cell_type": "code",
   "execution_count": 3,
   "outputs": [],
   "source": [
    "# Submiting the text\n",
    "def sub():\n",
    "    global txt\n",
    "    txt = a.get(0.0, tk.END)"
   ],
   "metadata": {
    "collapsed": false
   }
  },
  {
   "cell_type": "code",
   "execution_count": 4,
   "outputs": [],
   "source": [
    "# For encoding text\n",
    "def encode():\n",
    "    txt = a.get(0.0, tk.END)\n",
    "    global txt1\n",
    "    txt1 = bytes(txt, \"utf-16\")\n",
    "    global x\n",
    "    x = b.b64encode(txt1)\n",
    "    a.delete(0.0, tk.END)\n",
    "    a.insert(0.0, x)"
   ],
   "metadata": {
    "collapsed": false
   }
  },
  {
   "cell_type": "code",
   "execution_count": 5,
   "outputs": [],
   "source": [
    "# For decoding text\n",
    "def decode():\n",
    "    pw3 = py.password(\"Enter password\")\n",
    "    if pw3 == \"123\":\n",
    "        txt2 = b.b64decode(x)\n",
    "        print(txt2)\n",
    "        a.delete(0.0, tk.END)\n",
    "        a.insert(0.0, txt2)\n",
    "    else:\n",
    "        py.alert(\"sorry wrong password\")"
   ],
   "metadata": {
    "collapsed": false
   }
  },
  {
   "cell_type": "code",
   "execution_count": 6,
   "outputs": [],
   "source": [
    "# Creating My file button\n",
    "def My_File():\n",
    "\n",
    "    # To open saved file\n",
    "    def open1():\n",
    "        file = tf.askopenfilename()\n",
    "        with open(file, 'r') as my_file:\n",
    "            txt = my_file.read()\n",
    "            a.insert(0.0, txt)\n",
    "\n",
    "    # To save the existing file\n",
    "    def save():\n",
    "        file_dir_1 = tf.asksaveasfilename(initialdir=os.getcwd())\n",
    "        lst = file_dir_1.split('/')\n",
    "        file_name = lst[-1]\n",
    "        lst.pop()\n",
    "        dir_ = '/'.join(lst)\n",
    "        os.chdir(dir_)\n",
    "        text = a.get(0.0, tk.END)\n",
    "        open(file_name, 'x')\n",
    "        with open(file_name, 'w') as file:\n",
    "            file.write(text)\n",
    "            file.close()\n",
    "        os.chdir(crnt_dir)\n",
    "\n",
    "    # To close the file\n",
    "    def exit1():\n",
    "        rootu.destroy()\n",
    "\n",
    "    h = py.prompt(\"Enter your name\")\n",
    "    pw = py.password(\"Enter password\")\n",
    "    if pw == \"123\":\n",
    "        rootu = tk.Tk()\n",
    "        rootu.title(\"User\")\n",
    "        rootu.geometry(\"1370x749\")\n",
    "\n",
    "        global a\n",
    "        # Creating scrolledtext bar\n",
    "        a = sc.ScrolledText(rootu)\n",
    "        a.pack()\n",
    "\n",
    "        # Creating buttons\n",
    "        b6 = tk.Button(rootu, text='Submit', width=5, height=2, bg='black', fg='white', command=sub)\n",
    "        b6.place(x=400, y=350)\n",
    "\n",
    "        b3 = tk.Button(rootu, text='Encode', width=5, height=2, bg='black', fg='white', command=encode)\n",
    "        b3.place(x=500, y=350)\n",
    "\n",
    "        b4 = tk.Button(rootu, text='Decode', width=5, height=2, bg='black', fg='white', command=decode)\n",
    "        b4.place(x=600, y=350)\n",
    "\n",
    "        # Creating menu bar\n",
    "        menubar = tk.Menu(rootu)\n",
    "\n",
    "        fm = tk.Menu(menubar, tearoff=0)\n",
    "        fm.add_command(label=\"Open\", command=open1)\n",
    "        fm.add_command(label=\"Save\", command=save)\n",
    "        fm.add_command(label=\"Exit\", command=exit1)\n",
    "\n",
    "        menubar.add_cascade(label=\"Menu\", menu=fm)\n",
    "        rootu.config(menu=menubar)\n",
    "    else:\n",
    "        py.alert(\"sorry wrong password\")"
   ],
   "metadata": {
    "collapsed": false
   }
  },
  {
   "cell_type": "code",
   "execution_count": 7,
   "outputs": [
    {
     "name": "stdout",
     "output_type": "stream",
     "text": [
      "b'\\xff\\xfeA\\x00n\\x00a\\x00n\\x00\\n\\x00'\n"
     ]
    }
   ],
   "source": [
    "# Buttons on the main file\n",
    "b1 = tk.Button(rootu, text='My File', width=10, height=5, bg='black', fg='white', command=My_File)\n",
    "b1.place(x=200, y=150)\n",
    "\n",
    "rootu.mainloop()"
   ],
   "metadata": {
    "collapsed": false
   }
  },
  {
   "cell_type": "code",
   "execution_count": null,
   "outputs": [],
   "source": [],
   "metadata": {
    "collapsed": false
   }
  }
 ],
 "metadata": {
  "kernelspec": {
   "display_name": "Python 3",
   "language": "python",
   "name": "python3"
  },
  "language_info": {
   "codemirror_mode": {
    "name": "ipython",
    "version": 2
   },
   "file_extension": ".py",
   "mimetype": "text/x-python",
   "name": "python",
   "nbconvert_exporter": "python",
   "pygments_lexer": "ipython2",
   "version": "2.7.6"
  }
 },
 "nbformat": 4,
 "nbformat_minor": 0
}
